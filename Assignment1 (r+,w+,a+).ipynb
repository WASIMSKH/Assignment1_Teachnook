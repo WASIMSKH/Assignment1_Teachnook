{
 "cells": [
  {
   "cell_type": "code",
   "execution_count": 1,
   "id": "8bd6da87",
   "metadata": {},
   "outputs": [],
   "source": [
    "f = open(\"cfile.txt\",\"w\")"
   ]
  },
  {
   "cell_type": "code",
   "execution_count": 2,
   "id": "1212608a",
   "metadata": {},
   "outputs": [
    {
     "data": {
      "text/plain": [
       "10"
      ]
     },
     "execution_count": 2,
     "metadata": {},
     "output_type": "execute_result"
    }
   ],
   "source": [
    "f.write(\"Hello file\")"
   ]
  },
  {
   "cell_type": "code",
   "execution_count": 3,
   "id": "87e2189b",
   "metadata": {},
   "outputs": [],
   "source": [
    "with open('cfile.txt',\"r+\") as f:\n",
    "    f.read()\n",
    "    f.write(\"\\nnew line\")"
   ]
  },
  {
   "cell_type": "code",
   "execution_count": 4,
   "id": "baa311cc",
   "metadata": {},
   "outputs": [],
   "source": [
    "with open('cfile.txt',\"w+\") as f:\n",
    "    f.write(\"\\ntest 1\")\n",
    "    f.write(\"\\ntest 2\")\n",
    "    f.write(\"\\ntest 3\")"
   ]
  },
  {
   "cell_type": "code",
   "execution_count": 5,
   "id": "7ddf2c77",
   "metadata": {},
   "outputs": [],
   "source": [
    "with open('cfile.txt','a+') as f:\n",
    "    f.seek(0)\n",
    "    lines = f.readlines()\n",
    "    f.write(\"\\n\" + str(len(lines)))"
   ]
  },
  {
   "cell_type": "code",
   "execution_count": null,
   "id": "bc22d750",
   "metadata": {},
   "outputs": [],
   "source": []
  }
 ],
 "metadata": {
  "kernelspec": {
   "display_name": "Python 3 (ipykernel)",
   "language": "python",
   "name": "python3"
  },
  "language_info": {
   "codemirror_mode": {
    "name": "ipython",
    "version": 3
   },
   "file_extension": ".py",
   "mimetype": "text/x-python",
   "name": "python",
   "nbconvert_exporter": "python",
   "pygments_lexer": "ipython3",
   "version": "3.9.12"
  }
 },
 "nbformat": 4,
 "nbformat_minor": 5
}
